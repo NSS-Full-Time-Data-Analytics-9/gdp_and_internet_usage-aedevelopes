{
 "cells": [
  {
   "cell_type": "code",
   "execution_count": 1,
   "id": "884c1048",
   "metadata": {},
   "outputs": [],
   "source": [
    "import pandas as pd\n",
    "import numpy as np\n",
    "import matplotlib.pyplot as plt\n",
    "import seaborn as sns"
   ]
  },
  {
   "cell_type": "code",
   "execution_count": 2,
   "id": "b8d6dc5a",
   "metadata": {},
   "outputs": [],
   "source": [
    "gdp_df = pd.read_csv('..\\data\\gdp_percapita.csv')"
   ]
  },
  {
   "cell_type": "code",
   "execution_count": 3,
   "id": "9ed953a3",
   "metadata": {},
   "outputs": [
    {
     "data": {
      "text/plain": [
       "(7176, 4)"
      ]
     },
     "execution_count": 3,
     "metadata": {},
     "output_type": "execute_result"
    }
   ],
   "source": [
    "gdp_df.shape"
   ]
  },
  {
   "cell_type": "markdown",
   "id": "0667c287",
   "metadata": {},
   "source": [
    "7176 rows"
   ]
  },
  {
   "cell_type": "code",
   "execution_count": 4,
   "id": "37d969fe",
   "metadata": {},
   "outputs": [
    {
     "data": {
      "text/html": [
       "<div>\n",
       "<style scoped>\n",
       "    .dataframe tbody tr th:only-of-type {\n",
       "        vertical-align: middle;\n",
       "    }\n",
       "\n",
       "    .dataframe tbody tr th {\n",
       "        vertical-align: top;\n",
       "    }\n",
       "\n",
       "    .dataframe thead th {\n",
       "        text-align: right;\n",
       "    }\n",
       "</style>\n",
       "<table border=\"1\" class=\"dataframe\">\n",
       "  <thead>\n",
       "    <tr style=\"text-align: right;\">\n",
       "      <th></th>\n",
       "      <th>Country or Area</th>\n",
       "      <th>Year</th>\n",
       "      <th>Value</th>\n",
       "      <th>Value Footnotes</th>\n",
       "    </tr>\n",
       "  </thead>\n",
       "  <tbody>\n",
       "    <tr>\n",
       "      <th>0</th>\n",
       "      <td>Afghanistan</td>\n",
       "      <td>2020</td>\n",
       "      <td>1970.560169</td>\n",
       "      <td>NaN</td>\n",
       "    </tr>\n",
       "    <tr>\n",
       "      <th>1</th>\n",
       "      <td>Afghanistan</td>\n",
       "      <td>2019</td>\n",
       "      <td>2065.036235</td>\n",
       "      <td>NaN</td>\n",
       "    </tr>\n",
       "    <tr>\n",
       "      <th>2</th>\n",
       "      <td>Afghanistan</td>\n",
       "      <td>2018</td>\n",
       "      <td>2033.804389</td>\n",
       "      <td>NaN</td>\n",
       "    </tr>\n",
       "    <tr>\n",
       "      <th>3</th>\n",
       "      <td>Afghanistan</td>\n",
       "      <td>2017</td>\n",
       "      <td>2058.400221</td>\n",
       "      <td>NaN</td>\n",
       "    </tr>\n",
       "    <tr>\n",
       "      <th>4</th>\n",
       "      <td>Afghanistan</td>\n",
       "      <td>2016</td>\n",
       "      <td>2057.067978</td>\n",
       "      <td>NaN</td>\n",
       "    </tr>\n",
       "  </tbody>\n",
       "</table>\n",
       "</div>"
      ],
      "text/plain": [
       "  Country or Area  Year        Value  Value Footnotes\n",
       "0     Afghanistan  2020  1970.560169              NaN\n",
       "1     Afghanistan  2019  2065.036235              NaN\n",
       "2     Afghanistan  2018  2033.804389              NaN\n",
       "3     Afghanistan  2017  2058.400221              NaN\n",
       "4     Afghanistan  2016  2057.067978              NaN"
      ]
     },
     "execution_count": 4,
     "metadata": {},
     "output_type": "execute_result"
    }
   ],
   "source": [
    "gdp_df.head()"
   ]
  },
  {
   "cell_type": "markdown",
   "id": "7888fdd5",
   "metadata": {},
   "source": [
    "country, year, value, value footnotes"
   ]
  },
  {
   "cell_type": "code",
   "execution_count": 5,
   "id": "c8f1c8d1",
   "metadata": {},
   "outputs": [
    {
     "data": {
      "text/plain": [
       "pandas.core.series.Series"
      ]
     },
     "execution_count": 5,
     "metadata": {},
     "output_type": "execute_result"
    }
   ],
   "source": [
    "type(gdp_df['Country or Area'])"
   ]
  },
  {
   "cell_type": "raw",
   "id": "f2d8a54a",
   "metadata": {},
   "source": [
    "pandas.core.series.Series"
   ]
  },
  {
   "cell_type": "code",
   "execution_count": 6,
   "id": "3434e9c5",
   "metadata": {},
   "outputs": [
    {
     "data": {
      "text/plain": [
       "pandas.core.series.Series"
      ]
     },
     "execution_count": 6,
     "metadata": {},
     "output_type": "execute_result"
    }
   ],
   "source": [
    "type(gdp_df['Value'])"
   ]
  },
  {
   "cell_type": "code",
   "execution_count": 7,
   "id": "1c33915f",
   "metadata": {},
   "outputs": [],
   "source": [
    "gdp_df = gdp_df.drop('Value Footnotes',axis = 1)"
   ]
  },
  {
   "cell_type": "code",
   "execution_count": 8,
   "id": "8627db72",
   "metadata": {},
   "outputs": [],
   "source": [
    "gdp_df.columns = ['Country', 'Year', 'GDP_Per_Capita']"
   ]
  },
  {
   "cell_type": "code",
   "execution_count": 9,
   "id": "30810475",
   "metadata": {},
   "outputs": [
    {
     "data": {
      "text/plain": [
       "array([2020, 2019, 2018, 2017, 2016, 2015, 2014, 2013, 2012, 2011, 2010,\n",
       "       2009, 2008, 2007, 2006, 2005, 2004, 2003, 2002, 2001, 2000, 1999,\n",
       "       1998, 1997, 1996, 1995, 1994, 1993, 1992, 1991, 1990], dtype=int64)"
      ]
     },
     "execution_count": 9,
     "metadata": {},
     "output_type": "execute_result"
    }
   ],
   "source": [
    "gdp_df['Year'].unique()"
   ]
  },
  {
   "cell_type": "code",
   "execution_count": 10,
   "id": "2e4ad2b5",
   "metadata": {},
   "outputs": [
    {
     "data": {
      "text/plain": [
       "Least developed countries: UN classification    31\n",
       "Niger                                           31\n",
       "Middle East & North Africa (IDA & IBRD)         31\n",
       "Middle income                                   31\n",
       "Mongolia                                        31\n",
       "                                                ..\n",
       "IDA only                                        31\n",
       "Fragile and conflict affected situations        31\n",
       "Ireland                                         31\n",
       "France                                          31\n",
       "Italy                                           31\n",
       "Name: Country, Length: 205, dtype: int64"
      ]
     },
     "execution_count": 10,
     "metadata": {},
     "output_type": "execute_result"
    }
   ],
   "source": [
    "gdp_df['Country'].value_counts().loc[lambda x : x==31]"
   ]
  },
  {
   "cell_type": "markdown",
   "id": "72b5b7dd",
   "metadata": {},
   "source": [
    "205"
   ]
  },
  {
   "cell_type": "code",
   "execution_count": 11,
   "id": "db9f9699",
   "metadata": {
    "scrolled": true
   },
   "outputs": [
    {
     "data": {
      "text/plain": [
       "Afghanistan                  19\n",
       "Nauru                        17\n",
       "Cayman Islands               15\n",
       "Kosovo                       13\n",
       "Turks and Caicos Islands     10\n",
       "Sint Maarten (Dutch part)    10\n",
       "Somalia                       8\n",
       "Djibouti                      8\n",
       "Name: Country, dtype: int64"
      ]
     },
     "execution_count": 11,
     "metadata": {},
     "output_type": "execute_result"
    }
   ],
   "source": [
    "gdp_df['Country'].value_counts().loc[lambda x : x < 20]"
   ]
  },
  {
   "cell_type": "code",
   "execution_count": 12,
   "id": "0a418538",
   "metadata": {
    "scrolled": false
   },
   "outputs": [
    {
     "name": "stderr",
     "output_type": "stream",
     "text": [
      "Z:\\anaconda\\lib\\site-packages\\seaborn\\distributions.py:2619: FutureWarning: `distplot` is a deprecated function and will be removed in a future version. Please adapt your code to use either `displot` (a figure-level function with similar flexibility) or `histplot` (an axes-level function for histograms).\n",
      "  warnings.warn(msg, FutureWarning)\n"
     ]
    },
    {
     "data": {
      "text/plain": [
       "<AxesSubplot:xlabel='GDP_Per_Capita'>"
      ]
     },
     "execution_count": 12,
     "metadata": {},
     "output_type": "execute_result"
    },
    {
     "data": {
      "image/png": "[encoded data removed]",
      "text/plain": [
       "<Figure size 640x480 with 1 Axes>"
      ]
     },
     "metadata": {},
     "output_type": "display_data"
    }
   ],
   "source": [
    "gdp_df2020 = gdp_df[gdp_df['Year'] == 2020]\n",
    "\n",
    "sns.distplot( a=gdp_df2020[\"GDP_Per_Capita\"], hist=True, kde=False, rug=False )"
   ]
  },
  {
   "cell_type": "code",
   "execution_count": 13,
   "id": "1c3537d5",
   "metadata": {
    "scrolled": true
   },
   "outputs": [
    {
     "name": "stderr",
     "output_type": "stream",
     "text": [
      "C:\\Users\\zenit\\AppData\\Local\\Temp\\ipykernel_3056\\2382455831.py:1: FutureWarning: Dropping of nuisance columns in DataFrame reductions (with 'numeric_only=None') is deprecated; in a future version this will raise TypeError.  Select only valid columns before calling the reduction.\n",
      "  gdp_df2020.median()\n"
     ]
    },
    {
     "data": {
      "text/plain": [
       "Year               2020.000000\n",
       "GDP_Per_Capita    12908.937406\n",
       "dtype: float64"
      ]
     },
     "execution_count": 13,
     "metadata": {},
     "output_type": "execute_result"
    }
   ],
   "source": [
    "gdp_df2020.median()"
   ]
  },
  {
   "cell_type": "markdown",
   "id": "969258c9",
   "metadata": {},
   "source": [
    "12908"
   ]
  },
  {
   "cell_type": "code",
   "execution_count": 14,
   "id": "78f06012",
   "metadata": {},
   "outputs": [
    {
     "data": {
      "text/html": [
       "<div>\n",
       "<style scoped>\n",
       "    .dataframe tbody tr th:only-of-type {\n",
       "        vertical-align: middle;\n",
       "    }\n",
       "\n",
       "    .dataframe tbody tr th {\n",
       "        vertical-align: top;\n",
       "    }\n",
       "\n",
       "    .dataframe thead th {\n",
       "        text-align: right;\n",
       "    }\n",
       "</style>\n",
       "<table border=\"1\" class=\"dataframe\">\n",
       "  <thead>\n",
       "    <tr style=\"text-align: right;\">\n",
       "      <th></th>\n",
       "      <th>Country</th>\n",
       "      <th>Year</th>\n",
       "      <th>GDP_Per_Capita</th>\n",
       "    </tr>\n",
       "  </thead>\n",
       "  <tbody>\n",
       "    <tr>\n",
       "      <th>0</th>\n",
       "      <td>Afghanistan</td>\n",
       "      <td>2020</td>\n",
       "      <td>1970.560169</td>\n",
       "    </tr>\n",
       "    <tr>\n",
       "      <th>10</th>\n",
       "      <td>Afghanistan</td>\n",
       "      <td>2010</td>\n",
       "      <td>1957.029070</td>\n",
       "    </tr>\n",
       "    <tr>\n",
       "      <th>19</th>\n",
       "      <td>Africa Eastern and Southern</td>\n",
       "      <td>2020</td>\n",
       "      <td>3491.978104</td>\n",
       "    </tr>\n",
       "    <tr>\n",
       "      <th>29</th>\n",
       "      <td>Africa Eastern and Southern</td>\n",
       "      <td>2010</td>\n",
       "      <td>3545.205203</td>\n",
       "    </tr>\n",
       "    <tr>\n",
       "      <th>39</th>\n",
       "      <td>Africa Eastern and Southern</td>\n",
       "      <td>2000</td>\n",
       "      <td>2915.472987</td>\n",
       "    </tr>\n",
       "    <tr>\n",
       "      <th>...</th>\n",
       "      <td>...</td>\n",
       "      <td>...</td>\n",
       "      <td>...</td>\n",
       "    </tr>\n",
       "    <tr>\n",
       "      <th>7144</th>\n",
       "      <td>Zambia</td>\n",
       "      <td>1990</td>\n",
       "      <td>2190.181724</td>\n",
       "    </tr>\n",
       "    <tr>\n",
       "      <th>7145</th>\n",
       "      <td>Zimbabwe</td>\n",
       "      <td>2020</td>\n",
       "      <td>2134.555461</td>\n",
       "    </tr>\n",
       "    <tr>\n",
       "      <th>7155</th>\n",
       "      <td>Zimbabwe</td>\n",
       "      <td>2010</td>\n",
       "      <td>1813.531764</td>\n",
       "    </tr>\n",
       "    <tr>\n",
       "      <th>7165</th>\n",
       "      <td>Zimbabwe</td>\n",
       "      <td>2000</td>\n",
       "      <td>2771.060576</td>\n",
       "    </tr>\n",
       "    <tr>\n",
       "      <th>7175</th>\n",
       "      <td>Zimbabwe</td>\n",
       "      <td>1990</td>\n",
       "      <td>2652.129209</td>\n",
       "    </tr>\n",
       "  </tbody>\n",
       "</table>\n",
       "<p>918 rows × 3 columns</p>\n",
       "</div>"
      ],
      "text/plain": [
       "                          Country  Year  GDP_Per_Capita\n",
       "0                     Afghanistan  2020     1970.560169\n",
       "10                    Afghanistan  2010     1957.029070\n",
       "19    Africa Eastern and Southern  2020     3491.978104\n",
       "29    Africa Eastern and Southern  2010     3545.205203\n",
       "39    Africa Eastern and Southern  2000     2915.472987\n",
       "...                           ...   ...             ...\n",
       "7144                       Zambia  1990     2190.181724\n",
       "7145                     Zimbabwe  2020     2134.555461\n",
       "7155                     Zimbabwe  2010     1813.531764\n",
       "7165                     Zimbabwe  2000     2771.060576\n",
       "7175                     Zimbabwe  1990     2652.129209\n",
       "\n",
       "[918 rows x 3 columns]"
      ]
     },
     "execution_count": 14,
     "metadata": {},
     "output_type": "execute_result"
    }
   ],
   "source": [
    "decades_gdp = gdp_df.loc[gdp_df['Year'].isin([1990, 2000, 2010, 2020])]\n",
    "decades_gdp"
   ]
  },
  {
   "cell_type": "code",
   "execution_count": 15,
   "id": "ad26b203",
   "metadata": {},
   "outputs": [
    {
     "data": {
      "text/plain": [
       "<AxesSubplot:xlabel='Year', ylabel='GDP_Per_Capita'>"
      ]
     },
     "execution_count": 15,
     "metadata": {},
     "output_type": "execute_result"
    },
    {
     "data": {
      "image/png": "[encoded data removed]",
      "text/plain": [
       "<Figure size 640x480 with 1 Axes>"
      ]
     },
     "metadata": {},
     "output_type": "display_data"
    }
   ],
   "source": [
    "sns.regplot(x=decades_gdp[\"Year\"], y=decades_gdp[\"GDP_Per_Capita\"])"
   ]
  },
  {
   "cell_type": "markdown",
   "id": "492c76d9",
   "metadata": {},
   "source": [
    "gdp has increased"
   ]
  },
  {
   "cell_type": "code",
   "execution_count": 16,
   "id": "b0f5b434",
   "metadata": {
    "scrolled": true
   },
   "outputs": [
    {
     "data": {
      "text/html": [
       "<div>\n",
       "<style scoped>\n",
       "    .dataframe tbody tr th:only-of-type {\n",
       "        vertical-align: middle;\n",
       "    }\n",
       "\n",
       "    .dataframe tbody tr th {\n",
       "        vertical-align: top;\n",
       "    }\n",
       "\n",
       "    .dataframe thead th {\n",
       "        text-align: right;\n",
       "    }\n",
       "</style>\n",
       "<table border=\"1\" class=\"dataframe\">\n",
       "  <thead>\n",
       "    <tr style=\"text-align: right;\">\n",
       "      <th></th>\n",
       "      <th>Country</th>\n",
       "      <th>Year</th>\n",
       "      <th>GDP_Per_Capita</th>\n",
       "    </tr>\n",
       "  </thead>\n",
       "  <tbody>\n",
       "    <tr>\n",
       "      <th>3882</th>\n",
       "      <td>Luxembourg</td>\n",
       "      <td>2020</td>\n",
       "      <td>112557.309472</td>\n",
       "    </tr>\n",
       "    <tr>\n",
       "      <th>3883</th>\n",
       "      <td>Luxembourg</td>\n",
       "      <td>2019</td>\n",
       "      <td>116518.276815</td>\n",
       "    </tr>\n",
       "    <tr>\n",
       "      <th>3884</th>\n",
       "      <td>Luxembourg</td>\n",
       "      <td>2018</td>\n",
       "      <td>115049.926079</td>\n",
       "    </tr>\n",
       "    <tr>\n",
       "      <th>3885</th>\n",
       "      <td>Luxembourg</td>\n",
       "      <td>2017</td>\n",
       "      <td>114985.842236</td>\n",
       "    </tr>\n",
       "    <tr>\n",
       "      <th>3886</th>\n",
       "      <td>Luxembourg</td>\n",
       "      <td>2016</td>\n",
       "      <td>116283.699681</td>\n",
       "    </tr>\n",
       "    <tr>\n",
       "      <th>3887</th>\n",
       "      <td>Luxembourg</td>\n",
       "      <td>2015</td>\n",
       "      <td>113182.728563</td>\n",
       "    </tr>\n",
       "    <tr>\n",
       "      <th>3888</th>\n",
       "      <td>Luxembourg</td>\n",
       "      <td>2014</td>\n",
       "      <td>113313.578898</td>\n",
       "    </tr>\n",
       "    <tr>\n",
       "      <th>3889</th>\n",
       "      <td>Luxembourg</td>\n",
       "      <td>2013</td>\n",
       "      <td>113050.663254</td>\n",
       "    </tr>\n",
       "    <tr>\n",
       "      <th>3890</th>\n",
       "      <td>Luxembourg</td>\n",
       "      <td>2012</td>\n",
       "      <td>112137.135491</td>\n",
       "    </tr>\n",
       "    <tr>\n",
       "      <th>3891</th>\n",
       "      <td>Luxembourg</td>\n",
       "      <td>2011</td>\n",
       "      <td>112998.390477</td>\n",
       "    </tr>\n",
       "    <tr>\n",
       "      <th>3892</th>\n",
       "      <td>Luxembourg</td>\n",
       "      <td>2010</td>\n",
       "      <td>114343.988089</td>\n",
       "    </tr>\n",
       "    <tr>\n",
       "      <th>3893</th>\n",
       "      <td>Luxembourg</td>\n",
       "      <td>2009</td>\n",
       "      <td>112230.081410</td>\n",
       "    </tr>\n",
       "    <tr>\n",
       "      <th>3894</th>\n",
       "      <td>Luxembourg</td>\n",
       "      <td>2008</td>\n",
       "      <td>118154.667184</td>\n",
       "    </tr>\n",
       "    <tr>\n",
       "      <th>3895</th>\n",
       "      <td>Luxembourg</td>\n",
       "      <td>2007</td>\n",
       "      <td>120647.822959</td>\n",
       "    </tr>\n",
       "    <tr>\n",
       "      <th>3896</th>\n",
       "      <td>Luxembourg</td>\n",
       "      <td>2006</td>\n",
       "      <td>113346.035782</td>\n",
       "    </tr>\n",
       "    <tr>\n",
       "      <th>3897</th>\n",
       "      <td>Luxembourg</td>\n",
       "      <td>2005</td>\n",
       "      <td>108632.360016</td>\n",
       "    </tr>\n",
       "    <tr>\n",
       "      <th>3898</th>\n",
       "      <td>Luxembourg</td>\n",
       "      <td>2004</td>\n",
       "      <td>107634.837198</td>\n",
       "    </tr>\n",
       "    <tr>\n",
       "      <th>3899</th>\n",
       "      <td>Luxembourg</td>\n",
       "      <td>2003</td>\n",
       "      <td>104743.000088</td>\n",
       "    </tr>\n",
       "    <tr>\n",
       "      <th>3900</th>\n",
       "      <td>Luxembourg</td>\n",
       "      <td>2002</td>\n",
       "      <td>103317.331098</td>\n",
       "    </tr>\n",
       "    <tr>\n",
       "      <th>3901</th>\n",
       "      <td>Luxembourg</td>\n",
       "      <td>2001</td>\n",
       "      <td>101143.147977</td>\n",
       "    </tr>\n",
       "    <tr>\n",
       "      <th>3914</th>\n",
       "      <td>Macao SAR, China</td>\n",
       "      <td>2019</td>\n",
       "      <td>127272.548511</td>\n",
       "    </tr>\n",
       "    <tr>\n",
       "      <th>3915</th>\n",
       "      <td>Macao SAR, China</td>\n",
       "      <td>2018</td>\n",
       "      <td>132373.544079</td>\n",
       "    </tr>\n",
       "    <tr>\n",
       "      <th>3916</th>\n",
       "      <td>Macao SAR, China</td>\n",
       "      <td>2017</td>\n",
       "      <td>126144.104058</td>\n",
       "    </tr>\n",
       "    <tr>\n",
       "      <th>3917</th>\n",
       "      <td>Macao SAR, China</td>\n",
       "      <td>2016</td>\n",
       "      <td>116519.507535</td>\n",
       "    </tr>\n",
       "    <tr>\n",
       "      <th>3918</th>\n",
       "      <td>Macao SAR, China</td>\n",
       "      <td>2015</td>\n",
       "      <td>119406.919122</td>\n",
       "    </tr>\n",
       "    <tr>\n",
       "      <th>3919</th>\n",
       "      <td>Macao SAR, China</td>\n",
       "      <td>2014</td>\n",
       "      <td>155201.740571</td>\n",
       "    </tr>\n",
       "    <tr>\n",
       "      <th>3920</th>\n",
       "      <td>Macao SAR, China</td>\n",
       "      <td>2013</td>\n",
       "      <td>161971.464661</td>\n",
       "    </tr>\n",
       "    <tr>\n",
       "      <th>3921</th>\n",
       "      <td>Macao SAR, China</td>\n",
       "      <td>2012</td>\n",
       "      <td>149702.441471</td>\n",
       "    </tr>\n",
       "    <tr>\n",
       "      <th>3922</th>\n",
       "      <td>Macao SAR, China</td>\n",
       "      <td>2011</td>\n",
       "      <td>140321.907954</td>\n",
       "    </tr>\n",
       "    <tr>\n",
       "      <th>3923</th>\n",
       "      <td>Macao SAR, China</td>\n",
       "      <td>2010</td>\n",
       "      <td>118085.567175</td>\n",
       "    </tr>\n",
       "    <tr>\n",
       "      <th>6828</th>\n",
       "      <td>United Arab Emirates</td>\n",
       "      <td>2000</td>\n",
       "      <td>102494.714624</td>\n",
       "    </tr>\n",
       "    <tr>\n",
       "      <th>6830</th>\n",
       "      <td>United Arab Emirates</td>\n",
       "      <td>1998</td>\n",
       "      <td>100100.435658</td>\n",
       "    </tr>\n",
       "    <tr>\n",
       "      <th>6831</th>\n",
       "      <td>United Arab Emirates</td>\n",
       "      <td>1997</td>\n",
       "      <td>105108.996265</td>\n",
       "    </tr>\n",
       "    <tr>\n",
       "      <th>6832</th>\n",
       "      <td>United Arab Emirates</td>\n",
       "      <td>1996</td>\n",
       "      <td>102211.638844</td>\n",
       "    </tr>\n",
       "    <tr>\n",
       "      <th>6833</th>\n",
       "      <td>United Arab Emirates</td>\n",
       "      <td>1995</td>\n",
       "      <td>101570.992100</td>\n",
       "    </tr>\n",
       "    <tr>\n",
       "      <th>6834</th>\n",
       "      <td>United Arab Emirates</td>\n",
       "      <td>1994</td>\n",
       "      <td>100213.156226</td>\n",
       "    </tr>\n",
       "    <tr>\n",
       "      <th>6836</th>\n",
       "      <td>United Arab Emirates</td>\n",
       "      <td>1992</td>\n",
       "      <td>103470.924576</td>\n",
       "    </tr>\n",
       "    <tr>\n",
       "      <th>6837</th>\n",
       "      <td>United Arab Emirates</td>\n",
       "      <td>1991</td>\n",
       "      <td>106103.552655</td>\n",
       "    </tr>\n",
       "    <tr>\n",
       "      <th>6838</th>\n",
       "      <td>United Arab Emirates</td>\n",
       "      <td>1990</td>\n",
       "      <td>111454.055665</td>\n",
       "    </tr>\n",
       "  </tbody>\n",
       "</table>\n",
       "</div>"
      ],
      "text/plain": [
       "                   Country  Year  GDP_Per_Capita\n",
       "3882            Luxembourg  2020   112557.309472\n",
       "3883            Luxembourg  2019   116518.276815\n",
       "3884            Luxembourg  2018   115049.926079\n",
       "3885            Luxembourg  2017   114985.842236\n",
       "3886            Luxembourg  2016   116283.699681\n",
       "3887            Luxembourg  2015   113182.728563\n",
       "3888            Luxembourg  2014   113313.578898\n",
       "3889            Luxembourg  2013   113050.663254\n",
       "3890            Luxembourg  2012   112137.135491\n",
       "3891            Luxembourg  2011   112998.390477\n",
       "3892            Luxembourg  2010   114343.988089\n",
       "3893            Luxembourg  2009   112230.081410\n",
       "3894            Luxembourg  2008   118154.667184\n",
       "3895            Luxembourg  2007   120647.822959\n",
       "3896            Luxembourg  2006   113346.035782\n",
       "3897            Luxembourg  2005   108632.360016\n",
       "3898            Luxembourg  2004   107634.837198\n",
       "3899            Luxembourg  2003   104743.000088\n",
       "3900            Luxembourg  2002   103317.331098\n",
       "3901            Luxembourg  2001   101143.147977\n",
       "3914      Macao SAR, China  2019   127272.548511\n",
       "3915      Macao SAR, China  2018   132373.544079\n",
       "3916      Macao SAR, China  2017   126144.104058\n",
       "3917      Macao SAR, China  2016   116519.507535\n",
       "3918      Macao SAR, China  2015   119406.919122\n",
       "3919      Macao SAR, China  2014   155201.740571\n",
       "3920      Macao SAR, China  2013   161971.464661\n",
       "3921      Macao SAR, China  2012   149702.441471\n",
       "3922      Macao SAR, China  2011   140321.907954\n",
       "3923      Macao SAR, China  2010   118085.567175\n",
       "6828  United Arab Emirates  2000   102494.714624\n",
       "6830  United Arab Emirates  1998   100100.435658\n",
       "6831  United Arab Emirates  1997   105108.996265\n",
       "6832  United Arab Emirates  1996   102211.638844\n",
       "6833  United Arab Emirates  1995   101570.992100\n",
       "6834  United Arab Emirates  1994   100213.156226\n",
       "6836  United Arab Emirates  1992   103470.924576\n",
       "6837  United Arab Emirates  1991   106103.552655\n",
       "6838  United Arab Emirates  1990   111454.055665"
      ]
     },
     "execution_count": 16,
     "metadata": {},
     "output_type": "execute_result"
    }
   ],
   "source": [
    "gdpover = gdp_df[gdp_df['GDP_Per_Capita'] > 100000]\n",
    "gdpover"
   ]
  },
  {
   "cell_type": "code",
   "execution_count": 17,
   "id": "4bb5af3c",
   "metadata": {},
   "outputs": [
    {
     "data": {
      "text/html": [
       "<div>\n",
       "<style scoped>\n",
       "    .dataframe tbody tr th:only-of-type {\n",
       "        vertical-align: middle;\n",
       "    }\n",
       "\n",
       "    .dataframe tbody tr th {\n",
       "        vertical-align: top;\n",
       "    }\n",
       "\n",
       "    .dataframe thead th {\n",
       "        text-align: right;\n",
       "    }\n",
       "</style>\n",
       "<table border=\"1\" class=\"dataframe\">\n",
       "  <thead>\n",
       "    <tr style=\"text-align: right;\">\n",
       "      <th></th>\n",
       "      <th>Country</th>\n",
       "      <th>Year</th>\n",
       "      <th>GDP_Per_Capita</th>\n",
       "    </tr>\n",
       "  </thead>\n",
       "  <tbody>\n",
       "    <tr>\n",
       "      <th>6838</th>\n",
       "      <td>United Arab Emirates</td>\n",
       "      <td>1990</td>\n",
       "      <td>111454.055665</td>\n",
       "    </tr>\n",
       "  </tbody>\n",
       "</table>\n",
       "</div>"
      ],
      "text/plain": [
       "                   Country  Year  GDP_Per_Capita\n",
       "6838  United Arab Emirates  1990   111454.055665"
      ]
     },
     "execution_count": 17,
     "metadata": {},
     "output_type": "execute_result"
    }
   ],
   "source": [
    "gdpover.query('Year == Year.min()')"
   ]
  },
  {
   "cell_type": "code",
   "execution_count": 18,
   "id": "4ee4d1fd",
   "metadata": {},
   "outputs": [
    {
     "data": {
      "text/html": [
       "<div>\n",
       "<style scoped>\n",
       "    .dataframe tbody tr th:only-of-type {\n",
       "        vertical-align: middle;\n",
       "    }\n",
       "\n",
       "    .dataframe tbody tr th {\n",
       "        vertical-align: top;\n",
       "    }\n",
       "\n",
       "    .dataframe thead th {\n",
       "        text-align: right;\n",
       "    }\n",
       "</style>\n",
       "<table border=\"1\" class=\"dataframe\">\n",
       "  <thead>\n",
       "    <tr style=\"text-align: right;\">\n",
       "      <th></th>\n",
       "      <th>Country</th>\n",
       "      <th>Year</th>\n",
       "      <th>GDP_Per_Capita</th>\n",
       "    </tr>\n",
       "  </thead>\n",
       "  <tbody>\n",
       "    <tr>\n",
       "      <th>3882</th>\n",
       "      <td>Luxembourg</td>\n",
       "      <td>2020</td>\n",
       "      <td>112557.309472</td>\n",
       "    </tr>\n",
       "  </tbody>\n",
       "</table>\n",
       "</div>"
      ],
      "text/plain": [
       "         Country  Year  GDP_Per_Capita\n",
       "3882  Luxembourg  2020   112557.309472"
      ]
     },
     "execution_count": 18,
     "metadata": {},
     "output_type": "execute_result"
    }
   ],
   "source": [
    "gdp_df2020.query('GDP_Per_Capita == GDP_Per_Capita.max()')"
   ]
  },
  {
   "cell_type": "markdown",
   "id": "78c377e9",
   "metadata": {},
   "source": [
    "UAE 1990 and Luxem 2020"
   ]
  },
  {
   "cell_type": "code",
   "execution_count": 19,
   "id": "03c00449",
   "metadata": {
    "scrolled": true
   },
   "outputs": [
    {
     "data": {
      "text/html": [
       "<div>\n",
       "<style scoped>\n",
       "    .dataframe tbody tr th:only-of-type {\n",
       "        vertical-align: middle;\n",
       "    }\n",
       "\n",
       "    .dataframe tbody tr th {\n",
       "        vertical-align: top;\n",
       "    }\n",
       "\n",
       "    .dataframe thead th {\n",
       "        text-align: right;\n",
       "    }\n",
       "</style>\n",
       "<table border=\"1\" class=\"dataframe\">\n",
       "  <thead>\n",
       "    <tr style=\"text-align: right;\">\n",
       "      <th></th>\n",
       "      <th>Country</th>\n",
       "      <th>Year</th>\n",
       "      <th>GDP_Per_Capita</th>\n",
       "    </tr>\n",
       "  </thead>\n",
       "  <tbody>\n",
       "    <tr>\n",
       "      <th>3882</th>\n",
       "      <td>Luxembourg</td>\n",
       "      <td>2020</td>\n",
       "      <td>112557.309472</td>\n",
       "    </tr>\n",
       "    <tr>\n",
       "      <th>3883</th>\n",
       "      <td>Luxembourg</td>\n",
       "      <td>2019</td>\n",
       "      <td>116518.276815</td>\n",
       "    </tr>\n",
       "    <tr>\n",
       "      <th>3884</th>\n",
       "      <td>Luxembourg</td>\n",
       "      <td>2018</td>\n",
       "      <td>115049.926079</td>\n",
       "    </tr>\n",
       "    <tr>\n",
       "      <th>3885</th>\n",
       "      <td>Luxembourg</td>\n",
       "      <td>2017</td>\n",
       "      <td>114985.842236</td>\n",
       "    </tr>\n",
       "    <tr>\n",
       "      <th>3886</th>\n",
       "      <td>Luxembourg</td>\n",
       "      <td>2016</td>\n",
       "      <td>116283.699681</td>\n",
       "    </tr>\n",
       "    <tr>\n",
       "      <th>3887</th>\n",
       "      <td>Luxembourg</td>\n",
       "      <td>2015</td>\n",
       "      <td>113182.728563</td>\n",
       "    </tr>\n",
       "    <tr>\n",
       "      <th>3888</th>\n",
       "      <td>Luxembourg</td>\n",
       "      <td>2014</td>\n",
       "      <td>113313.578898</td>\n",
       "    </tr>\n",
       "    <tr>\n",
       "      <th>3889</th>\n",
       "      <td>Luxembourg</td>\n",
       "      <td>2013</td>\n",
       "      <td>113050.663254</td>\n",
       "    </tr>\n",
       "    <tr>\n",
       "      <th>3890</th>\n",
       "      <td>Luxembourg</td>\n",
       "      <td>2012</td>\n",
       "      <td>112137.135491</td>\n",
       "    </tr>\n",
       "    <tr>\n",
       "      <th>3891</th>\n",
       "      <td>Luxembourg</td>\n",
       "      <td>2011</td>\n",
       "      <td>112998.390477</td>\n",
       "    </tr>\n",
       "    <tr>\n",
       "      <th>3892</th>\n",
       "      <td>Luxembourg</td>\n",
       "      <td>2010</td>\n",
       "      <td>114343.988089</td>\n",
       "    </tr>\n",
       "    <tr>\n",
       "      <th>3893</th>\n",
       "      <td>Luxembourg</td>\n",
       "      <td>2009</td>\n",
       "      <td>112230.081410</td>\n",
       "    </tr>\n",
       "    <tr>\n",
       "      <th>3894</th>\n",
       "      <td>Luxembourg</td>\n",
       "      <td>2008</td>\n",
       "      <td>118154.667184</td>\n",
       "    </tr>\n",
       "    <tr>\n",
       "      <th>3895</th>\n",
       "      <td>Luxembourg</td>\n",
       "      <td>2007</td>\n",
       "      <td>120647.822959</td>\n",
       "    </tr>\n",
       "    <tr>\n",
       "      <th>3896</th>\n",
       "      <td>Luxembourg</td>\n",
       "      <td>2006</td>\n",
       "      <td>113346.035782</td>\n",
       "    </tr>\n",
       "    <tr>\n",
       "      <th>3897</th>\n",
       "      <td>Luxembourg</td>\n",
       "      <td>2005</td>\n",
       "      <td>108632.360016</td>\n",
       "    </tr>\n",
       "    <tr>\n",
       "      <th>3898</th>\n",
       "      <td>Luxembourg</td>\n",
       "      <td>2004</td>\n",
       "      <td>107634.837198</td>\n",
       "    </tr>\n",
       "    <tr>\n",
       "      <th>3899</th>\n",
       "      <td>Luxembourg</td>\n",
       "      <td>2003</td>\n",
       "      <td>104743.000088</td>\n",
       "    </tr>\n",
       "    <tr>\n",
       "      <th>3900</th>\n",
       "      <td>Luxembourg</td>\n",
       "      <td>2002</td>\n",
       "      <td>103317.331098</td>\n",
       "    </tr>\n",
       "    <tr>\n",
       "      <th>3901</th>\n",
       "      <td>Luxembourg</td>\n",
       "      <td>2001</td>\n",
       "      <td>101143.147977</td>\n",
       "    </tr>\n",
       "    <tr>\n",
       "      <th>3902</th>\n",
       "      <td>Luxembourg</td>\n",
       "      <td>2000</td>\n",
       "      <td>99301.526999</td>\n",
       "    </tr>\n",
       "    <tr>\n",
       "      <th>3903</th>\n",
       "      <td>Luxembourg</td>\n",
       "      <td>1999</td>\n",
       "      <td>94115.384035</td>\n",
       "    </tr>\n",
       "    <tr>\n",
       "      <th>3904</th>\n",
       "      <td>Luxembourg</td>\n",
       "      <td>1998</td>\n",
       "      <td>88185.800110</td>\n",
       "    </tr>\n",
       "    <tr>\n",
       "      <th>3905</th>\n",
       "      <td>Luxembourg</td>\n",
       "      <td>1997</td>\n",
       "      <td>83702.813530</td>\n",
       "    </tr>\n",
       "    <tr>\n",
       "      <th>3906</th>\n",
       "      <td>Luxembourg</td>\n",
       "      <td>1996</td>\n",
       "      <td>80401.032017</td>\n",
       "    </tr>\n",
       "    <tr>\n",
       "      <th>3907</th>\n",
       "      <td>Luxembourg</td>\n",
       "      <td>1995</td>\n",
       "      <td>80379.127629</td>\n",
       "    </tr>\n",
       "    <tr>\n",
       "      <th>3908</th>\n",
       "      <td>Luxembourg</td>\n",
       "      <td>1994</td>\n",
       "      <td>80365.224508</td>\n",
       "    </tr>\n",
       "    <tr>\n",
       "      <th>3909</th>\n",
       "      <td>Luxembourg</td>\n",
       "      <td>1993</td>\n",
       "      <td>78468.921760</td>\n",
       "    </tr>\n",
       "    <tr>\n",
       "      <th>3910</th>\n",
       "      <td>Luxembourg</td>\n",
       "      <td>1992</td>\n",
       "      <td>76323.304753</td>\n",
       "    </tr>\n",
       "    <tr>\n",
       "      <th>3911</th>\n",
       "      <td>Luxembourg</td>\n",
       "      <td>1991</td>\n",
       "      <td>75961.668717</td>\n",
       "    </tr>\n",
       "    <tr>\n",
       "      <th>3912</th>\n",
       "      <td>Luxembourg</td>\n",
       "      <td>1990</td>\n",
       "      <td>70860.819124</td>\n",
       "    </tr>\n",
       "  </tbody>\n",
       "</table>\n",
       "</div>"
      ],
      "text/plain": [
       "         Country  Year  GDP_Per_Capita\n",
       "3882  Luxembourg  2020   112557.309472\n",
       "3883  Luxembourg  2019   116518.276815\n",
       "3884  Luxembourg  2018   115049.926079\n",
       "3885  Luxembourg  2017   114985.842236\n",
       "3886  Luxembourg  2016   116283.699681\n",
       "3887  Luxembourg  2015   113182.728563\n",
       "3888  Luxembourg  2014   113313.578898\n",
       "3889  Luxembourg  2013   113050.663254\n",
       "3890  Luxembourg  2012   112137.135491\n",
       "3891  Luxembourg  2011   112998.390477\n",
       "3892  Luxembourg  2010   114343.988089\n",
       "3893  Luxembourg  2009   112230.081410\n",
       "3894  Luxembourg  2008   118154.667184\n",
       "3895  Luxembourg  2007   120647.822959\n",
       "3896  Luxembourg  2006   113346.035782\n",
       "3897  Luxembourg  2005   108632.360016\n",
       "3898  Luxembourg  2004   107634.837198\n",
       "3899  Luxembourg  2003   104743.000088\n",
       "3900  Luxembourg  2002   103317.331098\n",
       "3901  Luxembourg  2001   101143.147977\n",
       "3902  Luxembourg  2000    99301.526999\n",
       "3903  Luxembourg  1999    94115.384035\n",
       "3904  Luxembourg  1998    88185.800110\n",
       "3905  Luxembourg  1997    83702.813530\n",
       "3906  Luxembourg  1996    80401.032017\n",
       "3907  Luxembourg  1995    80379.127629\n",
       "3908  Luxembourg  1994    80365.224508\n",
       "3909  Luxembourg  1993    78468.921760\n",
       "3910  Luxembourg  1992    76323.304753\n",
       "3911  Luxembourg  1991    75961.668717\n",
       "3912  Luxembourg  1990    70860.819124"
      ]
     },
     "execution_count": 19,
     "metadata": {},
     "output_type": "execute_result"
    }
   ],
   "source": [
    "gdplux = gdp_df[gdp_df['Country'] == 'Luxembourg' ]\n",
    "gdplux"
   ]
  },
  {
   "cell_type": "code",
   "execution_count": 20,
   "id": "21a5428b",
   "metadata": {},
   "outputs": [
    {
     "data": {
      "text/plain": [
       "[<matplotlib.lines.Line2D at 0x1c86b8116d0>]"
      ]
     },
     "execution_count": 20,
     "metadata": {},
     "output_type": "execute_result"
    },
    {
     "data": {
      "image/png": "[encoded data removed]",
      "text/plain": [
       "<Figure size 640x480 with 1 Axes>"
      ]
     },
     "metadata": {},
     "output_type": "display_data"
    }
   ],
   "source": [
    "plt.plot(gdplux.Year,gdplux.GDP_Per_Capita)"
   ]
  },
  {
   "cell_type": "code",
   "execution_count": 21,
   "id": "25e1b5fb",
   "metadata": {},
   "outputs": [
    {
     "data": {
      "text/html": [
       "<div>\n",
       "<style scoped>\n",
       "    .dataframe tbody tr th:only-of-type {\n",
       "        vertical-align: middle;\n",
       "    }\n",
       "\n",
       "    .dataframe tbody tr th {\n",
       "        vertical-align: top;\n",
       "    }\n",
       "\n",
       "    .dataframe thead th {\n",
       "        text-align: right;\n",
       "    }\n",
       "</style>\n",
       "<table border=\"1\" class=\"dataframe\">\n",
       "  <thead>\n",
       "    <tr style=\"text-align: right;\">\n",
       "      <th></th>\n",
       "      <th>Country</th>\n",
       "      <th>Year</th>\n",
       "      <th>GDP_Per_Capita</th>\n",
       "    </tr>\n",
       "  </thead>\n",
       "  <tbody>\n",
       "    <tr>\n",
       "      <th>914</th>\n",
       "      <td>Burundi</td>\n",
       "      <td>2020</td>\n",
       "      <td>731.064074</td>\n",
       "    </tr>\n",
       "  </tbody>\n",
       "</table>\n",
       "</div>"
      ],
      "text/plain": [
       "     Country  Year  GDP_Per_Capita\n",
       "914  Burundi  2020      731.064074"
      ]
     },
     "execution_count": 21,
     "metadata": {},
     "output_type": "execute_result"
    }
   ],
   "source": [
    "gdp_df2020.query('GDP_Per_Capita == GDP_Per_Capita.min()')"
   ]
  },
  {
   "cell_type": "markdown",
   "id": "9709ca07",
   "metadata": {},
   "source": [
    "burundi"
   ]
  },
  {
   "cell_type": "code",
   "execution_count": 22,
   "id": "be237169",
   "metadata": {},
   "outputs": [],
   "source": [
    "gdpbur = gdp_df[gdp_df['Country'] == 'Burundi' ]"
   ]
  },
  {
   "cell_type": "code",
   "execution_count": 23,
   "id": "41671add",
   "metadata": {},
   "outputs": [
    {
     "data": {
      "text/plain": [
       "[<matplotlib.lines.Line2D at 0x1c86b8788e0>]"
      ]
     },
     "execution_count": 23,
     "metadata": {},
     "output_type": "execute_result"
    },
    {
     "data": {
      "image/png": "[encoded data removed]",
      "text/plain": [
       "<Figure size 640x480 with 1 Axes>"
      ]
     },
     "metadata": {},
     "output_type": "display_data"
    }
   ],
   "source": [
    "plt.plot(gdpbur.Year,gdpbur.GDP_Per_Capita)"
   ]
  },
  {
   "cell_type": "code",
   "execution_count": 24,
   "id": "7cd34827",
   "metadata": {},
   "outputs": [],
   "source": [
    "int_df = pd.read_csv('..\\data\\internet_use.csv', nrows = 4495)"
   ]
  },
  {
   "cell_type": "code",
   "execution_count": 25,
   "id": "dbc3c460",
   "metadata": {},
   "outputs": [],
   "source": [
    "int_df = int_df.drop('Value Footnotes',axis = 1)"
   ]
  },
  {
   "cell_type": "code",
   "execution_count": 26,
   "id": "d0f9c4d8",
   "metadata": {},
   "outputs": [],
   "source": [
    "int_df.columns = ['Country', 'Year', 'Users_pct']"
   ]
  },
  {
   "cell_type": "code",
   "execution_count": 27,
   "id": "a522b7c9",
   "metadata": {},
   "outputs": [],
   "source": [
    "int_df_c = int_df[int_df['Country'] == 'United States']"
   ]
  },
  {
   "cell_type": "code",
   "execution_count": null,
   "id": "c6a5b3f8",
   "metadata": {},
   "outputs": [],
   "source": []
  },
  {
   "cell_type": "markdown",
   "id": "9e8e33fe",
   "metadata": {},
   "source": [
    "years are from 1990 to 2014"
   ]
  },
  {
   "cell_type": "code",
   "execution_count": 28,
   "id": "d801afc3",
   "metadata": {},
   "outputs": [
    {
     "data": {
      "text/html": [
       "<div>\n",
       "<style scoped>\n",
       "    .dataframe tbody tr th:only-of-type {\n",
       "        vertical-align: middle;\n",
       "    }\n",
       "\n",
       "    .dataframe tbody tr th {\n",
       "        vertical-align: top;\n",
       "    }\n",
       "\n",
       "    .dataframe thead th {\n",
       "        text-align: right;\n",
       "    }\n",
       "</style>\n",
       "<table border=\"1\" class=\"dataframe\">\n",
       "  <thead>\n",
       "    <tr style=\"text-align: right;\">\n",
       "      <th></th>\n",
       "      <th>Country</th>\n",
       "      <th>Year</th>\n",
       "      <th>Users_pct</th>\n",
       "    </tr>\n",
       "  </thead>\n",
       "  <tbody>\n",
       "    <tr>\n",
       "      <th>204</th>\n",
       "      <td>Australia</td>\n",
       "      <td>1990</td>\n",
       "      <td>0.585095</td>\n",
       "    </tr>\n",
       "    <tr>\n",
       "      <th>229</th>\n",
       "      <td>Austria</td>\n",
       "      <td>1990</td>\n",
       "      <td>0.130369</td>\n",
       "    </tr>\n",
       "    <tr>\n",
       "      <th>375</th>\n",
       "      <td>Belgium</td>\n",
       "      <td>1990</td>\n",
       "      <td>0.001007</td>\n",
       "    </tr>\n",
       "    <tr>\n",
       "      <th>728</th>\n",
       "      <td>Canada</td>\n",
       "      <td>1990</td>\n",
       "      <td>0.361000</td>\n",
       "    </tr>\n",
       "    <tr>\n",
       "      <th>1107</th>\n",
       "      <td>Denmark</td>\n",
       "      <td>1990</td>\n",
       "      <td>0.097277</td>\n",
       "    </tr>\n",
       "    <tr>\n",
       "      <th>1388</th>\n",
       "      <td>Finland</td>\n",
       "      <td>1990</td>\n",
       "      <td>0.401088</td>\n",
       "    </tr>\n",
       "    <tr>\n",
       "      <th>1413</th>\n",
       "      <td>France</td>\n",
       "      <td>1990</td>\n",
       "      <td>0.052778</td>\n",
       "    </tr>\n",
       "    <tr>\n",
       "      <th>1535</th>\n",
       "      <td>Germany</td>\n",
       "      <td>1990</td>\n",
       "      <td>0.125892</td>\n",
       "    </tr>\n",
       "    <tr>\n",
       "      <th>2023</th>\n",
       "      <td>Israel</td>\n",
       "      <td>1990</td>\n",
       "      <td>0.110774</td>\n",
       "    </tr>\n",
       "    <tr>\n",
       "      <th>2048</th>\n",
       "      <td>Italy</td>\n",
       "      <td>1990</td>\n",
       "      <td>0.017545</td>\n",
       "    </tr>\n",
       "    <tr>\n",
       "      <th>2095</th>\n",
       "      <td>Japan</td>\n",
       "      <td>1990</td>\n",
       "      <td>0.020294</td>\n",
       "    </tr>\n",
       "    <tr>\n",
       "      <th>2217</th>\n",
       "      <td>Korea (Rep. of)</td>\n",
       "      <td>1990</td>\n",
       "      <td>0.023265</td>\n",
       "    </tr>\n",
       "    <tr>\n",
       "      <th>2904</th>\n",
       "      <td>Netherlands</td>\n",
       "      <td>1990</td>\n",
       "      <td>0.334387</td>\n",
       "    </tr>\n",
       "    <tr>\n",
       "      <th>3040</th>\n",
       "      <td>Norway</td>\n",
       "      <td>1990</td>\n",
       "      <td>0.707299</td>\n",
       "    </tr>\n",
       "    <tr>\n",
       "      <th>3720</th>\n",
       "      <td>Spain</td>\n",
       "      <td>1990</td>\n",
       "      <td>0.012874</td>\n",
       "    </tr>\n",
       "    <tr>\n",
       "      <th>3849</th>\n",
       "      <td>Sweden</td>\n",
       "      <td>1990</td>\n",
       "      <td>0.584192</td>\n",
       "    </tr>\n",
       "    <tr>\n",
       "      <th>3874</th>\n",
       "      <td>Switzerland</td>\n",
       "      <td>1990</td>\n",
       "      <td>0.595714</td>\n",
       "    </tr>\n",
       "    <tr>\n",
       "      <th>4276</th>\n",
       "      <td>United Kingdom</td>\n",
       "      <td>1990</td>\n",
       "      <td>0.087355</td>\n",
       "    </tr>\n",
       "    <tr>\n",
       "      <th>4301</th>\n",
       "      <td>United States</td>\n",
       "      <td>1990</td>\n",
       "      <td>0.784729</td>\n",
       "    </tr>\n",
       "  </tbody>\n",
       "</table>\n",
       "</div>"
      ],
      "text/plain": [
       "              Country  Year  Users_pct\n",
       "204         Australia  1990   0.585095\n",
       "229           Austria  1990   0.130369\n",
       "375           Belgium  1990   0.001007\n",
       "728            Canada  1990   0.361000\n",
       "1107          Denmark  1990   0.097277\n",
       "1388          Finland  1990   0.401088\n",
       "1413           France  1990   0.052778\n",
       "1535          Germany  1990   0.125892\n",
       "2023           Israel  1990   0.110774\n",
       "2048            Italy  1990   0.017545\n",
       "2095            Japan  1990   0.020294\n",
       "2217  Korea (Rep. of)  1990   0.023265\n",
       "2904      Netherlands  1990   0.334387\n",
       "3040           Norway  1990   0.707299\n",
       "3720            Spain  1990   0.012874\n",
       "3849           Sweden  1990   0.584192\n",
       "3874      Switzerland  1990   0.595714\n",
       "4276   United Kingdom  1990   0.087355\n",
       "4301    United States  1990   0.784729"
      ]
     },
     "execution_count": 28,
     "metadata": {},
     "output_type": "execute_result"
    }
   ],
   "source": [
    "int_df.query('Year == 1990 & Users_pct > 0')"
   ]
  },
  {
   "cell_type": "code",
   "execution_count": 29,
   "id": "94bea62f",
   "metadata": {},
   "outputs": [],
   "source": [
    "decades_int = int_df.loc[int_df['Year'].isin([ 2000, 2014])]"
   ]
  },
  {
   "cell_type": "code",
   "execution_count": 30,
   "id": "980657bb",
   "metadata": {},
   "outputs": [
    {
     "data": {
      "text/plain": [
       "<AxesSubplot:xlabel='Year', ylabel='Users_pct'>"
      ]
     },
     "execution_count": 30,
     "metadata": {},
     "output_type": "execute_result"
    },
    {
     "data": {
      "image/png": "[encoded data removed]",
      "text/plain": [
       "<Figure size 640x480 with 1 Axes>"
      ]
     },
     "metadata": {},
     "output_type": "display_data"
    }
   ],
   "source": [
    "sns.boxplot( x=decades_int[\"Year\"], y=decades_int[\"Users_pct\"] )"
   ]
  },
  {
   "cell_type": "code",
   "execution_count": 31,
   "id": "19da9b90",
   "metadata": {},
   "outputs": [],
   "source": [
    "int_2014 = int_df[int_df['Year'] == 2014]"
   ]
  },
  {
   "cell_type": "code",
   "execution_count": 32,
   "id": "475c791a",
   "metadata": {},
   "outputs": [
    {
     "data": {
      "text/html": [
       "<div>\n",
       "<style scoped>\n",
       "    .dataframe tbody tr th:only-of-type {\n",
       "        vertical-align: middle;\n",
       "    }\n",
       "\n",
       "    .dataframe tbody tr th {\n",
       "        vertical-align: top;\n",
       "    }\n",
       "\n",
       "    .dataframe thead th {\n",
       "        text-align: right;\n",
       "    }\n",
       "</style>\n",
       "<table border=\"1\" class=\"dataframe\">\n",
       "  <thead>\n",
       "    <tr style=\"text-align: right;\">\n",
       "      <th></th>\n",
       "      <th>Year</th>\n",
       "      <th>Users_pct</th>\n",
       "    </tr>\n",
       "  </thead>\n",
       "  <tbody>\n",
       "    <tr>\n",
       "      <th>count</th>\n",
       "      <td>16.0</td>\n",
       "      <td>16.000000</td>\n",
       "    </tr>\n",
       "    <tr>\n",
       "      <th>mean</th>\n",
       "      <td>2014.0</td>\n",
       "      <td>2.332500</td>\n",
       "    </tr>\n",
       "    <tr>\n",
       "      <th>std</th>\n",
       "      <td>0.0</td>\n",
       "      <td>1.254483</td>\n",
       "    </tr>\n",
       "    <tr>\n",
       "      <th>min</th>\n",
       "      <td>2014.0</td>\n",
       "      <td>0.000000</td>\n",
       "    </tr>\n",
       "    <tr>\n",
       "      <th>25%</th>\n",
       "      <td>2014.0</td>\n",
       "      <td>1.567500</td>\n",
       "    </tr>\n",
       "    <tr>\n",
       "      <th>50%</th>\n",
       "      <td>2014.0</td>\n",
       "      <td>2.100000</td>\n",
       "    </tr>\n",
       "    <tr>\n",
       "      <th>75%</th>\n",
       "      <td>2014.0</td>\n",
       "      <td>3.080000</td>\n",
       "    </tr>\n",
       "    <tr>\n",
       "      <th>max</th>\n",
       "      <td>2014.0</td>\n",
       "      <td>4.860000</td>\n",
       "    </tr>\n",
       "  </tbody>\n",
       "</table>\n",
       "</div>"
      ],
      "text/plain": [
       "         Year  Users_pct\n",
       "count    16.0  16.000000\n",
       "mean   2014.0   2.332500\n",
       "std       0.0   1.254483\n",
       "min    2014.0   0.000000\n",
       "25%    2014.0   1.567500\n",
       "50%    2014.0   2.100000\n",
       "75%    2014.0   3.080000\n",
       "max    2014.0   4.860000"
      ]
     },
     "execution_count": 32,
     "metadata": {},
     "output_type": "execute_result"
    }
   ],
   "source": [
    "int_5 = int_2014[int_2014['Users_pct'] < 5]\n",
    "int_5.describe()"
   ]
  },
  {
   "cell_type": "markdown",
   "id": "3322f9f1",
   "metadata": {},
   "source": [
    "16 countries"
   ]
  },
  {
   "cell_type": "code",
   "execution_count": 33,
   "id": "cb49c95f",
   "metadata": {},
   "outputs": [
    {
     "data": {
      "text/plain": [
       "Country      16\n",
       "Year         16\n",
       "Users_pct    16\n",
       "dtype: int64"
      ]
     },
     "execution_count": 33,
     "metadata": {},
     "output_type": "execute_result"
    }
   ],
   "source": [
    "int_df.query('Year == 2014 & Users_pct < 5').count()"
   ]
  },
  {
   "cell_type": "code",
   "execution_count": 34,
   "id": "1f5e0c03",
   "metadata": {},
   "outputs": [
    {
     "data": {
      "text/html": [
       "<div>\n",
       "<style scoped>\n",
       "    .dataframe tbody tr th:only-of-type {\n",
       "        vertical-align: middle;\n",
       "    }\n",
       "\n",
       "    .dataframe tbody tr th {\n",
       "        vertical-align: top;\n",
       "    }\n",
       "\n",
       "    .dataframe thead th {\n",
       "        text-align: right;\n",
       "    }\n",
       "</style>\n",
       "<table border=\"1\" class=\"dataframe\">\n",
       "  <thead>\n",
       "    <tr style=\"text-align: right;\">\n",
       "      <th></th>\n",
       "      <th>Country</th>\n",
       "      <th>Year</th>\n",
       "      <th>Users_pct</th>\n",
       "      <th>GDP_Per_Capita</th>\n",
       "    </tr>\n",
       "  </thead>\n",
       "  <tbody>\n",
       "    <tr>\n",
       "      <th>0</th>\n",
       "      <td>Afghanistan</td>\n",
       "      <td>2014</td>\n",
       "      <td>6.390000</td>\n",
       "      <td>2102.384604</td>\n",
       "    </tr>\n",
       "    <tr>\n",
       "      <th>1</th>\n",
       "      <td>Afghanistan</td>\n",
       "      <td>2013</td>\n",
       "      <td>5.900000</td>\n",
       "      <td>2116.465258</td>\n",
       "    </tr>\n",
       "    <tr>\n",
       "      <th>2</th>\n",
       "      <td>Afghanistan</td>\n",
       "      <td>2012</td>\n",
       "      <td>5.454545</td>\n",
       "      <td>2075.491614</td>\n",
       "    </tr>\n",
       "    <tr>\n",
       "      <th>3</th>\n",
       "      <td>Afghanistan</td>\n",
       "      <td>2011</td>\n",
       "      <td>5.000000</td>\n",
       "      <td>1904.559926</td>\n",
       "    </tr>\n",
       "    <tr>\n",
       "      <th>4</th>\n",
       "      <td>Afghanistan</td>\n",
       "      <td>2010</td>\n",
       "      <td>4.000000</td>\n",
       "      <td>1957.029070</td>\n",
       "    </tr>\n",
       "    <tr>\n",
       "      <th>...</th>\n",
       "      <td>...</td>\n",
       "      <td>...</td>\n",
       "      <td>...</td>\n",
       "      <td>...</td>\n",
       "    </tr>\n",
       "    <tr>\n",
       "      <th>8251</th>\n",
       "      <td>Zimbabwe</td>\n",
       "      <td>2016</td>\n",
       "      <td>NaN</td>\n",
       "      <td>2341.304920</td>\n",
       "    </tr>\n",
       "    <tr>\n",
       "      <th>8252</th>\n",
       "      <td>Zimbabwe</td>\n",
       "      <td>2015</td>\n",
       "      <td>NaN</td>\n",
       "      <td>2360.022385</td>\n",
       "    </tr>\n",
       "    <tr>\n",
       "      <th>8253</th>\n",
       "      <td>Zimbabwe</td>\n",
       "      <td>1993</td>\n",
       "      <td>NaN</td>\n",
       "      <td>2420.092791</td>\n",
       "    </tr>\n",
       "    <tr>\n",
       "      <th>8254</th>\n",
       "      <td>Zimbabwe</td>\n",
       "      <td>1992</td>\n",
       "      <td>NaN</td>\n",
       "      <td>2437.152908</td>\n",
       "    </tr>\n",
       "    <tr>\n",
       "      <th>8255</th>\n",
       "      <td>Zimbabwe</td>\n",
       "      <td>1991</td>\n",
       "      <td>NaN</td>\n",
       "      <td>2733.696626</td>\n",
       "    </tr>\n",
       "  </tbody>\n",
       "</table>\n",
       "<p>8256 rows × 4 columns</p>\n",
       "</div>"
      ],
      "text/plain": [
       "          Country  Year  Users_pct  GDP_Per_Capita\n",
       "0     Afghanistan  2014   6.390000     2102.384604\n",
       "1     Afghanistan  2013   5.900000     2116.465258\n",
       "2     Afghanistan  2012   5.454545     2075.491614\n",
       "3     Afghanistan  2011   5.000000     1904.559926\n",
       "4     Afghanistan  2010   4.000000     1957.029070\n",
       "...           ...   ...        ...             ...\n",
       "8251     Zimbabwe  2016        NaN     2341.304920\n",
       "8252     Zimbabwe  2015        NaN     2360.022385\n",
       "8253     Zimbabwe  1993        NaN     2420.092791\n",
       "8254     Zimbabwe  1992        NaN     2437.152908\n",
       "8255     Zimbabwe  1991        NaN     2733.696626\n",
       "\n",
       "[8256 rows x 4 columns]"
      ]
     },
     "execution_count": 34,
     "metadata": {},
     "output_type": "execute_result"
    }
   ],
   "source": [
    "gdp_int = pd.merge(int_df, gdp_df, \n",
    "                               on = ['Country', 'Year'], \n",
    "                               how = 'outer')\n",
    "\n",
    "\n",
    "gdp_int"
   ]
  },
  {
   "cell_type": "code",
   "execution_count": 35,
   "id": "ad1500cc",
   "metadata": {},
   "outputs": [
    {
     "data": {
      "text/html": [
       "<div>\n",
       "<style scoped>\n",
       "    .dataframe tbody tr th:only-of-type {\n",
       "        vertical-align: middle;\n",
       "    }\n",
       "\n",
       "    .dataframe tbody tr th {\n",
       "        vertical-align: top;\n",
       "    }\n",
       "\n",
       "    .dataframe thead th {\n",
       "        text-align: right;\n",
       "    }\n",
       "</style>\n",
       "<table border=\"1\" class=\"dataframe\">\n",
       "  <thead>\n",
       "    <tr style=\"text-align: right;\">\n",
       "      <th></th>\n",
       "      <th>Country</th>\n",
       "      <th>Year</th>\n",
       "      <th>Users_pct</th>\n",
       "      <th>GDP_Per_Capita</th>\n",
       "    </tr>\n",
       "  </thead>\n",
       "  <tbody>\n",
       "    <tr>\n",
       "      <th>415</th>\n",
       "      <td>Bermuda</td>\n",
       "      <td>2014</td>\n",
       "      <td>96.80</td>\n",
       "      <td>77361.104881</td>\n",
       "    </tr>\n",
       "    <tr>\n",
       "      <th>1866</th>\n",
       "      <td>Iceland</td>\n",
       "      <td>2014</td>\n",
       "      <td>98.16</td>\n",
       "      <td>50450.741612</td>\n",
       "    </tr>\n",
       "    <tr>\n",
       "      <th>3016</th>\n",
       "      <td>Norway</td>\n",
       "      <td>2014</td>\n",
       "      <td>96.30</td>\n",
       "      <td>62390.130313</td>\n",
       "    </tr>\n",
       "  </tbody>\n",
       "</table>\n",
       "</div>"
      ],
      "text/plain": [
       "      Country  Year  Users_pct  GDP_Per_Capita\n",
       "415   Bermuda  2014      96.80    77361.104881\n",
       "1866  Iceland  2014      98.16    50450.741612\n",
       "3016   Norway  2014      96.30    62390.130313"
      ]
     },
     "execution_count": 35,
     "metadata": {},
     "output_type": "execute_result"
    }
   ],
   "source": [
    "gdp_int.query('Year == 2014 & Users_pct == Users_pct.nlargest(4)')"
   ]
  },
  {
   "cell_type": "markdown",
   "id": "24609a78",
   "metadata": {},
   "source": [
    "bermuda, iceland, norway"
   ]
  },
  {
   "cell_type": "code",
   "execution_count": null,
   "id": "08bc1aaa",
   "metadata": {},
   "outputs": [],
   "source": []
  },
  {
   "cell_type": "code",
   "execution_count": null,
   "id": "24d8bc5b",
   "metadata": {},
   "outputs": [],
   "source": []
  },
  {
   "cell_type": "code",
   "execution_count": 36,
   "id": "be377087",
   "metadata": {},
   "outputs": [
    {
     "data": {
      "text/html": [
       "<div>\n",
       "<style scoped>\n",
       "    .dataframe tbody tr th:only-of-type {\n",
       "        vertical-align: middle;\n",
       "    }\n",
       "\n",
       "    .dataframe tbody tr th {\n",
       "        vertical-align: top;\n",
       "    }\n",
       "\n",
       "    .dataframe thead th {\n",
       "        text-align: right;\n",
       "    }\n",
       "</style>\n",
       "<table border=\"1\" class=\"dataframe\">\n",
       "  <thead>\n",
       "    <tr style=\"text-align: right;\">\n",
       "      <th></th>\n",
       "      <th>Country</th>\n",
       "      <th>Year</th>\n",
       "      <th>Users_pct</th>\n",
       "      <th>GDP_Per_Capita</th>\n",
       "    </tr>\n",
       "  </thead>\n",
       "  <tbody>\n",
       "    <tr>\n",
       "      <th>415</th>\n",
       "      <td>Bermuda</td>\n",
       "      <td>2014</td>\n",
       "      <td>96.800000</td>\n",
       "      <td>77361.104881</td>\n",
       "    </tr>\n",
       "    <tr>\n",
       "      <th>416</th>\n",
       "      <td>Bermuda</td>\n",
       "      <td>2013</td>\n",
       "      <td>95.300000</td>\n",
       "      <td>80503.650291</td>\n",
       "    </tr>\n",
       "    <tr>\n",
       "      <th>417</th>\n",
       "      <td>Bermuda</td>\n",
       "      <td>2012</td>\n",
       "      <td>91.299305</td>\n",
       "      <td>80982.367755</td>\n",
       "    </tr>\n",
       "    <tr>\n",
       "      <th>418</th>\n",
       "      <td>Bermuda</td>\n",
       "      <td>2011</td>\n",
       "      <td>88.336000</td>\n",
       "      <td>85829.378260</td>\n",
       "    </tr>\n",
       "    <tr>\n",
       "      <th>419</th>\n",
       "      <td>Bermuda</td>\n",
       "      <td>2010</td>\n",
       "      <td>84.210000</td>\n",
       "      <td>88399.915949</td>\n",
       "    </tr>\n",
       "    <tr>\n",
       "      <th>...</th>\n",
       "      <td>...</td>\n",
       "      <td>...</td>\n",
       "      <td>...</td>\n",
       "      <td>...</td>\n",
       "    </tr>\n",
       "    <tr>\n",
       "      <th>7093</th>\n",
       "      <td>Norway</td>\n",
       "      <td>2019</td>\n",
       "      <td>NaN</td>\n",
       "      <td>64385.005993</td>\n",
       "    </tr>\n",
       "    <tr>\n",
       "      <th>7094</th>\n",
       "      <td>Norway</td>\n",
       "      <td>2018</td>\n",
       "      <td>NaN</td>\n",
       "      <td>64341.258681</td>\n",
       "    </tr>\n",
       "    <tr>\n",
       "      <th>7095</th>\n",
       "      <td>Norway</td>\n",
       "      <td>2017</td>\n",
       "      <td>NaN</td>\n",
       "      <td>64050.756165</td>\n",
       "    </tr>\n",
       "    <tr>\n",
       "      <th>7096</th>\n",
       "      <td>Norway</td>\n",
       "      <td>2016</td>\n",
       "      <td>NaN</td>\n",
       "      <td>63104.080782</td>\n",
       "    </tr>\n",
       "    <tr>\n",
       "      <th>7097</th>\n",
       "      <td>Norway</td>\n",
       "      <td>2015</td>\n",
       "      <td>NaN</td>\n",
       "      <td>62987.516286</td>\n",
       "    </tr>\n",
       "  </tbody>\n",
       "</table>\n",
       "<p>93 rows × 4 columns</p>\n",
       "</div>"
      ],
      "text/plain": [
       "      Country  Year  Users_pct  GDP_Per_Capita\n",
       "415   Bermuda  2014  96.800000    77361.104881\n",
       "416   Bermuda  2013  95.300000    80503.650291\n",
       "417   Bermuda  2012  91.299305    80982.367755\n",
       "418   Bermuda  2011  88.336000    85829.378260\n",
       "419   Bermuda  2010  84.210000    88399.915949\n",
       "...       ...   ...        ...             ...\n",
       "7093   Norway  2019        NaN    64385.005993\n",
       "7094   Norway  2018        NaN    64341.258681\n",
       "7095   Norway  2017        NaN    64050.756165\n",
       "7096   Norway  2016        NaN    63104.080782\n",
       "7097   Norway  2015        NaN    62987.516286\n",
       "\n",
       "[93 rows x 4 columns]"
      ]
     },
     "execution_count": 36,
     "metadata": {},
     "output_type": "execute_result"
    }
   ],
   "source": [
    "bin_df = gdp_int.loc[gdp_int['Country'].isin([ 'Iceland', 'Bermuda', 'Norway'])]\n",
    "bin_df"
   ]
  },
  {
   "cell_type": "markdown",
   "id": "b2b4fc69",
   "metadata": {},
   "source": [
    "sns.FacetGrid(bin_df, row = 'GDP_Per_Capita', col = 'Users_pct' ) not working"
   ]
  },
  {
   "cell_type": "code",
   "execution_count": 38,
   "id": "4917f959",
   "metadata": {},
   "outputs": [
    {
     "data": {
      "text/html": [
       "<div>\n",
       "<style scoped>\n",
       "    .dataframe tbody tr th:only-of-type {\n",
       "        vertical-align: middle;\n",
       "    }\n",
       "\n",
       "    .dataframe tbody tr th {\n",
       "        vertical-align: top;\n",
       "    }\n",
       "\n",
       "    .dataframe thead th {\n",
       "        text-align: right;\n",
       "    }\n",
       "</style>\n",
       "<table border=\"1\" class=\"dataframe\">\n",
       "  <thead>\n",
       "    <tr style=\"text-align: right;\">\n",
       "      <th></th>\n",
       "      <th>Country</th>\n",
       "      <th>Year</th>\n",
       "      <th>Users_pct</th>\n",
       "      <th>GDP_Per_Capita</th>\n",
       "    </tr>\n",
       "  </thead>\n",
       "  <tbody>\n",
       "    <tr>\n",
       "      <th>0</th>\n",
       "      <td>Afghanistan</td>\n",
       "      <td>2014</td>\n",
       "      <td>6.39</td>\n",
       "      <td>2102.384604</td>\n",
       "    </tr>\n",
       "    <tr>\n",
       "      <th>15</th>\n",
       "      <td>Albania</td>\n",
       "      <td>2014</td>\n",
       "      <td>60.10</td>\n",
       "      <td>11586.833878</td>\n",
       "    </tr>\n",
       "    <tr>\n",
       "      <th>36</th>\n",
       "      <td>Algeria</td>\n",
       "      <td>2014</td>\n",
       "      <td>18.09</td>\n",
       "      <td>11512.690472</td>\n",
       "    </tr>\n",
       "    <tr>\n",
       "      <th>59</th>\n",
       "      <td>Andorra</td>\n",
       "      <td>2014</td>\n",
       "      <td>95.90</td>\n",
       "      <td>NaN</td>\n",
       "    </tr>\n",
       "    <tr>\n",
       "      <th>78</th>\n",
       "      <td>Angola</td>\n",
       "      <td>2014</td>\n",
       "      <td>21.26</td>\n",
       "      <td>8240.347981</td>\n",
       "    </tr>\n",
       "    <tr>\n",
       "      <th>...</th>\n",
       "      <td>...</td>\n",
       "      <td>...</td>\n",
       "      <td>...</td>\n",
       "      <td>...</td>\n",
       "    </tr>\n",
       "    <tr>\n",
       "      <th>8032</th>\n",
       "      <td>Tuvalu</td>\n",
       "      <td>2014</td>\n",
       "      <td>NaN</td>\n",
       "      <td>3497.520822</td>\n",
       "    </tr>\n",
       "    <tr>\n",
       "      <th>8094</th>\n",
       "      <td>Upper middle income</td>\n",
       "      <td>2014</td>\n",
       "      <td>NaN</td>\n",
       "      <td>14564.823543</td>\n",
       "    </tr>\n",
       "    <tr>\n",
       "      <th>8155</th>\n",
       "      <td>Vietnam</td>\n",
       "      <td>2014</td>\n",
       "      <td>NaN</td>\n",
       "      <td>7601.858491</td>\n",
       "    </tr>\n",
       "    <tr>\n",
       "      <th>8186</th>\n",
       "      <td>West Bank and Gaza</td>\n",
       "      <td>2014</td>\n",
       "      <td>NaN</td>\n",
       "      <td>5967.073437</td>\n",
       "    </tr>\n",
       "    <tr>\n",
       "      <th>8213</th>\n",
       "      <td>World</td>\n",
       "      <td>2014</td>\n",
       "      <td>NaN</td>\n",
       "      <td>15224.439424</td>\n",
       "    </tr>\n",
       "  </tbody>\n",
       "</table>\n",
       "<p>281 rows × 4 columns</p>\n",
       "</div>"
      ],
      "text/plain": [
       "                  Country  Year  Users_pct  GDP_Per_Capita\n",
       "0             Afghanistan  2014       6.39     2102.384604\n",
       "15                Albania  2014      60.10    11586.833878\n",
       "36                Algeria  2014      18.09    11512.690472\n",
       "59                Andorra  2014      95.90             NaN\n",
       "78                 Angola  2014      21.26     8240.347981\n",
       "...                   ...   ...        ...             ...\n",
       "8032               Tuvalu  2014        NaN     3497.520822\n",
       "8094  Upper middle income  2014        NaN    14564.823543\n",
       "8155              Vietnam  2014        NaN     7601.858491\n",
       "8186   West Bank and Gaza  2014        NaN     5967.073437\n",
       "8213                World  2014        NaN    15224.439424\n",
       "\n",
       "[281 rows x 4 columns]"
      ]
     },
     "execution_count": 38,
     "metadata": {},
     "output_type": "execute_result"
    }
   ],
   "source": [
    "gdp_int_2014 = gdp_int[gdp_int['Year'] == 2014]\n",
    "gdp_int_2014"
   ]
  },
  {
   "cell_type": "code",
   "execution_count": 40,
   "id": "ae8fd7c2",
   "metadata": {},
   "outputs": [
    {
     "data": {
      "text/plain": [
       "<AxesSubplot:xlabel='Users_pct', ylabel='GDP_Per_Capita'>"
      ]
     },
     "execution_count": 40,
     "metadata": {},
     "output_type": "execute_result"
    },
    {
     "data": {
      "image/png": "[encoded data removed]",
      "text/plain": [
       "<Figure size 640x480 with 1 Axes>"
      ]
     },
     "metadata": {},
     "output_type": "display_data"
    }
   ],
   "source": [
    "sns.regplot(x=gdp_int_2014[\"Users_pct\"], y=gdp_int_2014[\"GDP_Per_Capita\"])"
   ]
  },
  {
   "cell_type": "code",
   "execution_count": 43,
   "id": "e638af07",
   "metadata": {},
   "outputs": [
    {
     "data": {
      "text/plain": [
       "[<matplotlib.lines.Line2D at 0x1c86cc5d9d0>]"
      ]
     },
     "execution_count": 43,
     "metadata": {},
     "output_type": "execute_result"
    },
    {
     "data": {
      "image/png": "[encoded data removed]",
      "text/plain": [
       "<Figure size 640x480 with 1 Axes>"
      ]
     },
     "metadata": {},
     "output_type": "display_data"
    }
   ],
   "source": [
    "plt.plot( 'Users_pct', 'GDP_Per_Capita', data=gdp_int_2014, linestyle='none', marker='o')"
   ]
  },
  {
   "cell_type": "code",
   "execution_count": 44,
   "id": "6fa9c733",
   "metadata": {},
   "outputs": [
    {
     "data": {
      "text/html": [
       "<div>\n",
       "<style scoped>\n",
       "    .dataframe tbody tr th:only-of-type {\n",
       "        vertical-align: middle;\n",
       "    }\n",
       "\n",
       "    .dataframe tbody tr th {\n",
       "        vertical-align: top;\n",
       "    }\n",
       "\n",
       "    .dataframe thead th {\n",
       "        text-align: right;\n",
       "    }\n",
       "</style>\n",
       "<table border=\"1\" class=\"dataframe\">\n",
       "  <thead>\n",
       "    <tr style=\"text-align: right;\">\n",
       "      <th></th>\n",
       "      <th>Country</th>\n",
       "      <th>Year</th>\n",
       "      <th>Users_pct</th>\n",
       "      <th>GDP_Per_Capita</th>\n",
       "    </tr>\n",
       "  </thead>\n",
       "  <tbody>\n",
       "    <tr>\n",
       "      <th>59</th>\n",
       "      <td>Andorra</td>\n",
       "      <td>2014</td>\n",
       "      <td>95.90000</td>\n",
       "      <td>NaN</td>\n",
       "    </tr>\n",
       "    <tr>\n",
       "      <th>271</th>\n",
       "      <td>Bahrain</td>\n",
       "      <td>2014</td>\n",
       "      <td>90.99998</td>\n",
       "      <td>48201.157172</td>\n",
       "    </tr>\n",
       "    <tr>\n",
       "      <th>415</th>\n",
       "      <td>Bermuda</td>\n",
       "      <td>2014</td>\n",
       "      <td>96.80000</td>\n",
       "      <td>77361.104881</td>\n",
       "    </tr>\n",
       "    <tr>\n",
       "      <th>1083</th>\n",
       "      <td>Denmark</td>\n",
       "      <td>2014</td>\n",
       "      <td>95.99000</td>\n",
       "      <td>52048.335493</td>\n",
       "    </tr>\n",
       "    <tr>\n",
       "      <th>1320</th>\n",
       "      <td>Faroe Islands</td>\n",
       "      <td>2014</td>\n",
       "      <td>94.66000</td>\n",
       "      <td>NaN</td>\n",
       "    </tr>\n",
       "    <tr>\n",
       "      <th>1364</th>\n",
       "      <td>Finland</td>\n",
       "      <td>2014</td>\n",
       "      <td>92.38000</td>\n",
       "      <td>44976.776449</td>\n",
       "    </tr>\n",
       "    <tr>\n",
       "      <th>1866</th>\n",
       "      <td>Iceland</td>\n",
       "      <td>2014</td>\n",
       "      <td>98.16000</td>\n",
       "      <td>50450.741612</td>\n",
       "    </tr>\n",
       "    <tr>\n",
       "      <th>2071</th>\n",
       "      <td>Japan</td>\n",
       "      <td>2014</td>\n",
       "      <td>90.58000</td>\n",
       "      <td>39739.541124</td>\n",
       "    </tr>\n",
       "    <tr>\n",
       "      <th>2371</th>\n",
       "      <td>Liechtenstein</td>\n",
       "      <td>2014</td>\n",
       "      <td>95.21000</td>\n",
       "      <td>NaN</td>\n",
       "    </tr>\n",
       "    <tr>\n",
       "      <th>2407</th>\n",
       "      <td>Luxembourg</td>\n",
       "      <td>2014</td>\n",
       "      <td>94.67000</td>\n",
       "      <td>113313.578898</td>\n",
       "    </tr>\n",
       "    <tr>\n",
       "      <th>2729</th>\n",
       "      <td>Monaco</td>\n",
       "      <td>2014</td>\n",
       "      <td>92.40000</td>\n",
       "      <td>NaN</td>\n",
       "    </tr>\n",
       "    <tr>\n",
       "      <th>2880</th>\n",
       "      <td>Netherlands</td>\n",
       "      <td>2014</td>\n",
       "      <td>93.17000</td>\n",
       "      <td>52186.997386</td>\n",
       "    </tr>\n",
       "    <tr>\n",
       "      <th>3016</th>\n",
       "      <td>Norway</td>\n",
       "      <td>2014</td>\n",
       "      <td>96.30000</td>\n",
       "      <td>62390.130313</td>\n",
       "    </tr>\n",
       "    <tr>\n",
       "      <th>3279</th>\n",
       "      <td>Qatar</td>\n",
       "      <td>2014</td>\n",
       "      <td>91.49000</td>\n",
       "      <td>95578.261511</td>\n",
       "    </tr>\n",
       "    <tr>\n",
       "      <th>3825</th>\n",
       "      <td>Sweden</td>\n",
       "      <td>2014</td>\n",
       "      <td>92.52000</td>\n",
       "      <td>49258.996164</td>\n",
       "    </tr>\n",
       "    <tr>\n",
       "      <th>4231</th>\n",
       "      <td>United Arab Emirates</td>\n",
       "      <td>2014</td>\n",
       "      <td>90.40000</td>\n",
       "      <td>62452.184508</td>\n",
       "    </tr>\n",
       "    <tr>\n",
       "      <th>4252</th>\n",
       "      <td>United Kingdom</td>\n",
       "      <td>2014</td>\n",
       "      <td>91.61000</td>\n",
       "      <td>44239.151060</td>\n",
       "    </tr>\n",
       "  </tbody>\n",
       "</table>\n",
       "</div>"
      ],
      "text/plain": [
       "                   Country  Year  Users_pct  GDP_Per_Capita\n",
       "59                 Andorra  2014   95.90000             NaN\n",
       "271                Bahrain  2014   90.99998    48201.157172\n",
       "415                Bermuda  2014   96.80000    77361.104881\n",
       "1083               Denmark  2014   95.99000    52048.335493\n",
       "1320         Faroe Islands  2014   94.66000             NaN\n",
       "1364               Finland  2014   92.38000    44976.776449\n",
       "1866               Iceland  2014   98.16000    50450.741612\n",
       "2071                 Japan  2014   90.58000    39739.541124\n",
       "2371         Liechtenstein  2014   95.21000             NaN\n",
       "2407            Luxembourg  2014   94.67000   113313.578898\n",
       "2729                Monaco  2014   92.40000             NaN\n",
       "2880           Netherlands  2014   93.17000    52186.997386\n",
       "3016                Norway  2014   96.30000    62390.130313\n",
       "3279                 Qatar  2014   91.49000    95578.261511\n",
       "3825                Sweden  2014   92.52000    49258.996164\n",
       "4231  United Arab Emirates  2014   90.40000    62452.184508\n",
       "4252        United Kingdom  2014   91.61000    44239.151060"
      ]
     },
     "execution_count": 44,
     "metadata": {},
     "output_type": "execute_result"
    }
   ],
   "source": [
    "gdp_int_2014.query('Users_pct > 90')"
   ]
  }
 ],
 "metadata": {
  "kernelspec": {
   "display_name": "Python 3 (ipykernel)",
   "language": "python",
   "name": "python3"
  },
  "language_info": {
   "codemirror_mode": {
    "name": "ipython",
    "version": 3
   },
   "file_extension": ".py",
   "mimetype": "text/x-python",
   "name": "python",
   "nbconvert_exporter": "python",
   "pygments_lexer": "ipython3",
   "version": "3.9.13"
  }
 },
 "nbformat": 4,
 "nbformat_minor": 5
}
